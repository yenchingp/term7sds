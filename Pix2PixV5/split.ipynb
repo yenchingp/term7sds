{
 "cells": [
  {
   "cell_type": "code",
   "execution_count": 1,
   "metadata": {},
   "outputs": [],
   "source": [
    "from PIL import Image\n",
    "import os\n",
    "\n",
    "def split_images(folder_path, target_folder, input_folder):\n",
    "    # Ensure the target directories exist\n",
    "    if not os.path.exists(target_folder):\n",
    "        os.makedirs(target_folder)\n",
    "    if not os.path.exists(input_folder):\n",
    "        os.makedirs(input_folder)\n",
    "    \n",
    "    # Loop through each image in the folder\n",
    "    for filename in os.listdir(folder_path):\n",
    "        if filename.endswith(\".jpg\") or filename.endswith(\".png\"):\n",
    "            with Image.open(os.path.join(folder_path, filename)) as img:\n",
    "                # Check if image size is as expected\n",
    "                if img.size == (1024, 512):\n",
    "                    # Split the image\n",
    "                    target_image = img.crop((0, 0, 512, 512))\n",
    "                    input_image = img.crop((512, 0, 1024, 512))\n",
    "\n",
    "                    # Save the split images\n",
    "                    target_image.save(os.path.join(target_folder, filename))\n",
    "                    input_image.save(os.path.join(input_folder, filename))\n",
    "                else:\n",
    "                    print(f\"Skipping {filename}: Unexpected image size.\")\n"
   ]
  },
  {
   "cell_type": "code",
   "execution_count": 2,
   "metadata": {},
   "outputs": [],
   "source": [
    "root_path = \"./data/final_buildings_data\"\n",
    "folder_path = root_path+\"/test\"\n",
    "target_folder = root_path+\"/target\"\n",
    "input_folder = root_path+\"/input\"\n",
    "\n",
    "split_images(folder_path, target_folder, input_folder)"
   ]
  }
 ],
 "metadata": {
  "kernelspec": {
   "display_name": "htx",
   "language": "python",
   "name": "python3"
  },
  "language_info": {
   "codemirror_mode": {
    "name": "ipython",
    "version": 3
   },
   "file_extension": ".py",
   "mimetype": "text/x-python",
   "name": "python",
   "nbconvert_exporter": "python",
   "pygments_lexer": "ipython3",
   "version": "3.9.18"
  }
 },
 "nbformat": 4,
 "nbformat_minor": 2
}
