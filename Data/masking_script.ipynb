{
 "cells": [
  {
   "cell_type": "code",
   "execution_count": 1,
   "metadata": {},
   "outputs": [],
   "source": [
    "import cv2\n",
    "import numpy as np"
   ]
  },
  {
   "cell_type": "code",
   "execution_count": 21,
   "metadata": {},
   "outputs": [
    {
     "data": {
      "text/plain": [
       "True"
      ]
     },
     "execution_count": 21,
     "metadata": {},
     "output_type": "execute_result"
    }
   ],
   "source": [
    "#  Load the image\n",
    "# image = cv2.imread('1_input.png')\n",
    "image = cv2.imread('1_ground_truth.png')\n",
    "\n",
    "\n",
    "# Define the lower and upper bounds for green color\n",
    "lower_colour = np.array([201, 208, 217])\n",
    "upper_colour = np.array([206, 213, 222])\n",
    "\n",
    "# Create a binary mask for the specified color\n",
    "colour_mask = cv2.inRange(image, lower_colour, upper_colour)\n",
    "\n",
    "# Apply a morphological operation to improve the mask\n",
    "kernel = np.ones((5, 5), np.uint8)\n",
    "colour_mask = cv2.morphologyEx(colour_mask, cv2.MORPH_CLOSE, kernel)\n",
    "\n",
    "# Invert the mask to keep everything except the coloured regions\n",
    "inverse_colour_mask = cv2.bitwise_not(colour_mask)\n",
    "\n",
    "# Bitwise-AND the original image with the inverted mask to mask the inside of the boundary\n",
    "result = cv2.bitwise_and(image, image, mask=inverse_colour_mask)\n",
    "\n",
    "# Save the resulting image as 'masked.png'\n",
    "# cv2.imwrite('masked_i.png', result)\n",
    "cv2.imwrite('masked_gt.png', result)"
   ]
  },
  {
   "cell_type": "code",
   "execution_count": 24,
   "metadata": {},
   "outputs": [
    {
     "data": {
      "text/plain": [
       "True"
      ]
     },
     "execution_count": 24,
     "metadata": {},
     "output_type": "execute_result"
    }
   ],
   "source": [
    "#  Load the image\n",
    "image = cv2.imread('34_zoom.png')\n",
    "\n",
    "# Define the lower and upper bounds for green color\n",
    "lower_green = np.array([35, 30, 30])\n",
    "upper_green = np.array([85, 255, 255])\n",
    "\n",
    "# Convert the image to the HSV color space\n",
    "hsv = cv2.cvtColor(image, cv2.COLOR_BGR2HSV)\n",
    "\n",
    "# Create a binary mask for green color\n",
    "green_mask = cv2.inRange(hsv, lower_green, upper_green)\n",
    "\n",
    "# Apply a morphological operation to improve the mask\n",
    "kernel = np.ones((5, 5), np.uint8)\n",
    "green_mask = cv2.morphologyEx(green_mask, cv2.MORPH_CLOSE, kernel)\n",
    "\n",
    "# Invert the mask to keep everything except the green regions\n",
    "inverse_green_mask = cv2.bitwise_not(green_mask)\n",
    "\n",
    "# Bitwise-AND the original image with the inverted mask to mask the inside of the boundary\n",
    "result = cv2.bitwise_and(image, image, mask=inverse_green_mask)\n",
    "\n",
    "# Save the resulting image as 'masked.png'\n",
    "cv2.imwrite('masked.png', result)"
   ]
  }
 ],
 "metadata": {
  "kernelspec": {
   "display_name": "Python 3",
   "language": "python",
   "name": "python3"
  },
  "language_info": {
   "codemirror_mode": {
    "name": "ipython",
    "version": 3
   },
   "file_extension": ".py",
   "mimetype": "text/x-python",
   "name": "python",
   "nbconvert_exporter": "python",
   "pygments_lexer": "ipython3",
   "version": "3.10.11"
  }
 },
 "nbformat": 4,
 "nbformat_minor": 2
}
