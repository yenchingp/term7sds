{
 "cells": [
  {
   "cell_type": "code",
   "execution_count": 2,
   "metadata": {},
   "outputs": [],
   "source": [
    "import os"
   ]
  },
  {
   "cell_type": "code",
   "execution_count": 8,
   "metadata": {},
   "outputs": [
    {
     "name": "stdout",
     "output_type": "stream",
     "text": [
      "Files renamed successfully.\n"
     ]
    }
   ],
   "source": [
    "folder_path = 'Screenshots/Zoom'  # Update this with the correct folder path\n",
    "\n",
    "# List all files in the folder\n",
    "file_list = os.listdir(folder_path)\n",
    "\n",
    "# Iterate through the files and rename them\n",
    "for filename in file_list:\n",
    "    if filename.endswith('.png'):  # Adjust the file extension as needed\n",
    "        # Split the file name and extension\n",
    "        name, ext = os.path.splitext(filename)\n",
    "        \n",
    "        # Check if the name ends with '_area'\n",
    "        if name.endswith('_area'):\n",
    "            # Rename the file by replacing '_area' with '_site_plan'\n",
    "            new_name = name.replace('_area', '_zoom')\n",
    "            \n",
    "            # Create the new file path\n",
    "            new_path = os.path.join(folder_path, new_name + ext)\n",
    "            \n",
    "            # Rename the file\n",
    "            os.rename(os.path.join(folder_path, filename), new_path)\n",
    "\n",
    "print(\"Files renamed successfully.\")\n"
   ]
  },
  {
   "cell_type": "code",
   "execution_count": null,
   "metadata": {},
   "outputs": [],
   "source": []
  }
 ],
 "metadata": {
  "kernelspec": {
   "display_name": "Python 3",
   "language": "python",
   "name": "python3"
  },
  "language_info": {
   "codemirror_mode": {
    "name": "ipython",
    "version": 3
   },
   "file_extension": ".py",
   "mimetype": "text/x-python",
   "name": "python",
   "nbconvert_exporter": "python",
   "pygments_lexer": "ipython3",
   "version": "3.10.11"
  },
  "orig_nbformat": 4
 },
 "nbformat": 4,
 "nbformat_minor": 2
}
