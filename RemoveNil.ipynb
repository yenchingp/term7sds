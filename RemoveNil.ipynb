{
 "cells": [
  {
   "cell_type": "code",
   "execution_count": 1,
   "metadata": {},
   "outputs": [],
   "source": [
    "import pandas as pd\n"
   ]
  },
  {
   "cell_type": "code",
   "execution_count": 2,
   "metadata": {},
   "outputs": [
    {
     "ename": "FileNotFoundError",
     "evalue": "[Errno 2] No such file or directory: 'condo_data_new.csv'",
     "output_type": "error",
     "traceback": [
      "\u001b[1;31m---------------------------------------------------------------------------\u001b[0m",
      "\u001b[1;31mFileNotFoundError\u001b[0m                         Traceback (most recent call last)",
      "\u001b[1;32mUntitled-1.ipynb Cell 2\u001b[0m line \u001b[0;36m<cell line: 2>\u001b[1;34m()\u001b[0m\n\u001b[0;32m      <a href='vscode-notebook-cell:Untitled-1.ipynb?jupyter-notebook#W1sdW50aXRsZWQ%3D?line=0'>1</a>\u001b[0m \u001b[39m# read condo_data_new.csv\u001b[39;00m\n\u001b[1;32m----> <a href='vscode-notebook-cell:Untitled-1.ipynb?jupyter-notebook#W1sdW50aXRsZWQ%3D?line=1'>2</a>\u001b[0m pd \u001b[39m=\u001b[39m pd\u001b[39m.\u001b[39;49mread_csv(\u001b[39m'\u001b[39;49m\u001b[39mcondo_data_new.csv\u001b[39;49m\u001b[39m'\u001b[39;49m)\n\u001b[0;32m      <a href='vscode-notebook-cell:Untitled-1.ipynb?jupyter-notebook#W1sdW50aXRsZWQ%3D?line=2'>3</a>\u001b[0m pd\n",
      "File \u001b[1;32m~\\AppData\\Local\\Packages\\PythonSoftwareFoundation.Python.3.10_qbz5n2kfra8p0\\LocalCache\\local-packages\\Python310\\site-packages\\pandas\\util\\_decorators.py:311\u001b[0m, in \u001b[0;36mdeprecate_nonkeyword_arguments.<locals>.decorate.<locals>.wrapper\u001b[1;34m(*args, **kwargs)\u001b[0m\n\u001b[0;32m    305\u001b[0m \u001b[39mif\u001b[39;00m \u001b[39mlen\u001b[39m(args) \u001b[39m>\u001b[39m num_allow_args:\n\u001b[0;32m    306\u001b[0m     warnings\u001b[39m.\u001b[39mwarn(\n\u001b[0;32m    307\u001b[0m         msg\u001b[39m.\u001b[39mformat(arguments\u001b[39m=\u001b[39marguments),\n\u001b[0;32m    308\u001b[0m         \u001b[39mFutureWarning\u001b[39;00m,\n\u001b[0;32m    309\u001b[0m         stacklevel\u001b[39m=\u001b[39mstacklevel,\n\u001b[0;32m    310\u001b[0m     )\n\u001b[1;32m--> 311\u001b[0m \u001b[39mreturn\u001b[39;00m func(\u001b[39m*\u001b[39margs, \u001b[39m*\u001b[39m\u001b[39m*\u001b[39mkwargs)\n",
      "File \u001b[1;32m~\\AppData\\Local\\Packages\\PythonSoftwareFoundation.Python.3.10_qbz5n2kfra8p0\\LocalCache\\local-packages\\Python310\\site-packages\\pandas\\io\\parsers\\readers.py:680\u001b[0m, in \u001b[0;36mread_csv\u001b[1;34m(filepath_or_buffer, sep, delimiter, header, names, index_col, usecols, squeeze, prefix, mangle_dupe_cols, dtype, engine, converters, true_values, false_values, skipinitialspace, skiprows, skipfooter, nrows, na_values, keep_default_na, na_filter, verbose, skip_blank_lines, parse_dates, infer_datetime_format, keep_date_col, date_parser, dayfirst, cache_dates, iterator, chunksize, compression, thousands, decimal, lineterminator, quotechar, quoting, doublequote, escapechar, comment, encoding, encoding_errors, dialect, error_bad_lines, warn_bad_lines, on_bad_lines, delim_whitespace, low_memory, memory_map, float_precision, storage_options)\u001b[0m\n\u001b[0;32m    665\u001b[0m kwds_defaults \u001b[39m=\u001b[39m _refine_defaults_read(\n\u001b[0;32m    666\u001b[0m     dialect,\n\u001b[0;32m    667\u001b[0m     delimiter,\n\u001b[1;32m   (...)\u001b[0m\n\u001b[0;32m    676\u001b[0m     defaults\u001b[39m=\u001b[39m{\u001b[39m\"\u001b[39m\u001b[39mdelimiter\u001b[39m\u001b[39m\"\u001b[39m: \u001b[39m\"\u001b[39m\u001b[39m,\u001b[39m\u001b[39m\"\u001b[39m},\n\u001b[0;32m    677\u001b[0m )\n\u001b[0;32m    678\u001b[0m kwds\u001b[39m.\u001b[39mupdate(kwds_defaults)\n\u001b[1;32m--> 680\u001b[0m \u001b[39mreturn\u001b[39;00m _read(filepath_or_buffer, kwds)\n",
      "File \u001b[1;32m~\\AppData\\Local\\Packages\\PythonSoftwareFoundation.Python.3.10_qbz5n2kfra8p0\\LocalCache\\local-packages\\Python310\\site-packages\\pandas\\io\\parsers\\readers.py:575\u001b[0m, in \u001b[0;36m_read\u001b[1;34m(filepath_or_buffer, kwds)\u001b[0m\n\u001b[0;32m    572\u001b[0m _validate_names(kwds\u001b[39m.\u001b[39mget(\u001b[39m\"\u001b[39m\u001b[39mnames\u001b[39m\u001b[39m\"\u001b[39m, \u001b[39mNone\u001b[39;00m))\n\u001b[0;32m    574\u001b[0m \u001b[39m# Create the parser.\u001b[39;00m\n\u001b[1;32m--> 575\u001b[0m parser \u001b[39m=\u001b[39m TextFileReader(filepath_or_buffer, \u001b[39m*\u001b[39m\u001b[39m*\u001b[39mkwds)\n\u001b[0;32m    577\u001b[0m \u001b[39mif\u001b[39;00m chunksize \u001b[39mor\u001b[39;00m iterator:\n\u001b[0;32m    578\u001b[0m     \u001b[39mreturn\u001b[39;00m parser\n",
      "File \u001b[1;32m~\\AppData\\Local\\Packages\\PythonSoftwareFoundation.Python.3.10_qbz5n2kfra8p0\\LocalCache\\local-packages\\Python310\\site-packages\\pandas\\io\\parsers\\readers.py:933\u001b[0m, in \u001b[0;36mTextFileReader.__init__\u001b[1;34m(self, f, engine, **kwds)\u001b[0m\n\u001b[0;32m    930\u001b[0m     \u001b[39mself\u001b[39m\u001b[39m.\u001b[39moptions[\u001b[39m\"\u001b[39m\u001b[39mhas_index_names\u001b[39m\u001b[39m\"\u001b[39m] \u001b[39m=\u001b[39m kwds[\u001b[39m\"\u001b[39m\u001b[39mhas_index_names\u001b[39m\u001b[39m\"\u001b[39m]\n\u001b[0;32m    932\u001b[0m \u001b[39mself\u001b[39m\u001b[39m.\u001b[39mhandles: IOHandles \u001b[39m|\u001b[39m \u001b[39mNone\u001b[39;00m \u001b[39m=\u001b[39m \u001b[39mNone\u001b[39;00m\n\u001b[1;32m--> 933\u001b[0m \u001b[39mself\u001b[39m\u001b[39m.\u001b[39m_engine \u001b[39m=\u001b[39m \u001b[39mself\u001b[39;49m\u001b[39m.\u001b[39;49m_make_engine(f, \u001b[39mself\u001b[39;49m\u001b[39m.\u001b[39;49mengine)\n",
      "File \u001b[1;32m~\\AppData\\Local\\Packages\\PythonSoftwareFoundation.Python.3.10_qbz5n2kfra8p0\\LocalCache\\local-packages\\Python310\\site-packages\\pandas\\io\\parsers\\readers.py:1217\u001b[0m, in \u001b[0;36mTextFileReader._make_engine\u001b[1;34m(self, f, engine)\u001b[0m\n\u001b[0;32m   1213\u001b[0m     mode \u001b[39m=\u001b[39m \u001b[39m\"\u001b[39m\u001b[39mrb\u001b[39m\u001b[39m\"\u001b[39m\n\u001b[0;32m   1214\u001b[0m \u001b[39m# error: No overload variant of \"get_handle\" matches argument types\u001b[39;00m\n\u001b[0;32m   1215\u001b[0m \u001b[39m# \"Union[str, PathLike[str], ReadCsvBuffer[bytes], ReadCsvBuffer[str]]\"\u001b[39;00m\n\u001b[0;32m   1216\u001b[0m \u001b[39m# , \"str\", \"bool\", \"Any\", \"Any\", \"Any\", \"Any\", \"Any\"\u001b[39;00m\n\u001b[1;32m-> 1217\u001b[0m \u001b[39mself\u001b[39m\u001b[39m.\u001b[39mhandles \u001b[39m=\u001b[39m get_handle(  \u001b[39m# type: ignore[call-overload]\u001b[39;49;00m\n\u001b[0;32m   1218\u001b[0m     f,\n\u001b[0;32m   1219\u001b[0m     mode,\n\u001b[0;32m   1220\u001b[0m     encoding\u001b[39m=\u001b[39;49m\u001b[39mself\u001b[39;49m\u001b[39m.\u001b[39;49moptions\u001b[39m.\u001b[39;49mget(\u001b[39m\"\u001b[39;49m\u001b[39mencoding\u001b[39;49m\u001b[39m\"\u001b[39;49m, \u001b[39mNone\u001b[39;49;00m),\n\u001b[0;32m   1221\u001b[0m     compression\u001b[39m=\u001b[39;49m\u001b[39mself\u001b[39;49m\u001b[39m.\u001b[39;49moptions\u001b[39m.\u001b[39;49mget(\u001b[39m\"\u001b[39;49m\u001b[39mcompression\u001b[39;49m\u001b[39m\"\u001b[39;49m, \u001b[39mNone\u001b[39;49;00m),\n\u001b[0;32m   1222\u001b[0m     memory_map\u001b[39m=\u001b[39;49m\u001b[39mself\u001b[39;49m\u001b[39m.\u001b[39;49moptions\u001b[39m.\u001b[39;49mget(\u001b[39m\"\u001b[39;49m\u001b[39mmemory_map\u001b[39;49m\u001b[39m\"\u001b[39;49m, \u001b[39mFalse\u001b[39;49;00m),\n\u001b[0;32m   1223\u001b[0m     is_text\u001b[39m=\u001b[39;49mis_text,\n\u001b[0;32m   1224\u001b[0m     errors\u001b[39m=\u001b[39;49m\u001b[39mself\u001b[39;49m\u001b[39m.\u001b[39;49moptions\u001b[39m.\u001b[39;49mget(\u001b[39m\"\u001b[39;49m\u001b[39mencoding_errors\u001b[39;49m\u001b[39m\"\u001b[39;49m, \u001b[39m\"\u001b[39;49m\u001b[39mstrict\u001b[39;49m\u001b[39m\"\u001b[39;49m),\n\u001b[0;32m   1225\u001b[0m     storage_options\u001b[39m=\u001b[39;49m\u001b[39mself\u001b[39;49m\u001b[39m.\u001b[39;49moptions\u001b[39m.\u001b[39;49mget(\u001b[39m\"\u001b[39;49m\u001b[39mstorage_options\u001b[39;49m\u001b[39m\"\u001b[39;49m, \u001b[39mNone\u001b[39;49;00m),\n\u001b[0;32m   1226\u001b[0m )\n\u001b[0;32m   1227\u001b[0m \u001b[39massert\u001b[39;00m \u001b[39mself\u001b[39m\u001b[39m.\u001b[39mhandles \u001b[39mis\u001b[39;00m \u001b[39mnot\u001b[39;00m \u001b[39mNone\u001b[39;00m\n\u001b[0;32m   1228\u001b[0m f \u001b[39m=\u001b[39m \u001b[39mself\u001b[39m\u001b[39m.\u001b[39mhandles\u001b[39m.\u001b[39mhandle\n",
      "File \u001b[1;32m~\\AppData\\Local\\Packages\\PythonSoftwareFoundation.Python.3.10_qbz5n2kfra8p0\\LocalCache\\local-packages\\Python310\\site-packages\\pandas\\io\\common.py:789\u001b[0m, in \u001b[0;36mget_handle\u001b[1;34m(path_or_buf, mode, encoding, compression, memory_map, is_text, errors, storage_options)\u001b[0m\n\u001b[0;32m    784\u001b[0m \u001b[39melif\u001b[39;00m \u001b[39misinstance\u001b[39m(handle, \u001b[39mstr\u001b[39m):\n\u001b[0;32m    785\u001b[0m     \u001b[39m# Check whether the filename is to be opened in binary mode.\u001b[39;00m\n\u001b[0;32m    786\u001b[0m     \u001b[39m# Binary mode does not support 'encoding' and 'newline'.\u001b[39;00m\n\u001b[0;32m    787\u001b[0m     \u001b[39mif\u001b[39;00m ioargs\u001b[39m.\u001b[39mencoding \u001b[39mand\u001b[39;00m \u001b[39m\"\u001b[39m\u001b[39mb\u001b[39m\u001b[39m\"\u001b[39m \u001b[39mnot\u001b[39;00m \u001b[39min\u001b[39;00m ioargs\u001b[39m.\u001b[39mmode:\n\u001b[0;32m    788\u001b[0m         \u001b[39m# Encoding\u001b[39;00m\n\u001b[1;32m--> 789\u001b[0m         handle \u001b[39m=\u001b[39m \u001b[39mopen\u001b[39;49m(\n\u001b[0;32m    790\u001b[0m             handle,\n\u001b[0;32m    791\u001b[0m             ioargs\u001b[39m.\u001b[39;49mmode,\n\u001b[0;32m    792\u001b[0m             encoding\u001b[39m=\u001b[39;49mioargs\u001b[39m.\u001b[39;49mencoding,\n\u001b[0;32m    793\u001b[0m             errors\u001b[39m=\u001b[39;49merrors,\n\u001b[0;32m    794\u001b[0m             newline\u001b[39m=\u001b[39;49m\u001b[39m\"\u001b[39;49m\u001b[39m\"\u001b[39;49m,\n\u001b[0;32m    795\u001b[0m         )\n\u001b[0;32m    796\u001b[0m     \u001b[39melse\u001b[39;00m:\n\u001b[0;32m    797\u001b[0m         \u001b[39m# Binary mode\u001b[39;00m\n\u001b[0;32m    798\u001b[0m         handle \u001b[39m=\u001b[39m \u001b[39mopen\u001b[39m(handle, ioargs\u001b[39m.\u001b[39mmode)\n",
      "\u001b[1;31mFileNotFoundError\u001b[0m: [Errno 2] No such file or directory: 'condo_data_new.csv'"
     ]
    }
   ],
   "source": [
    "# read condo_data_new.csv\n",
    "pd = pd.read_csv('condo_data_new.csv')\n",
    "pd"
   ]
  },
  {
   "cell_type": "code",
   "execution_count": null,
   "metadata": {},
   "outputs": [],
   "source": [
    "ls = ['AKYAB APARTMENTS', 'AKZONOBEL HOUSE', 'ALDEA BLANCA', 'AMBER CLOSE', 'AMBER GLADES', 'AMBER LODGE', 'AMBER TOWERS (EMBLOC)', 'AMYTON COURT', 'ANGULLIA MANSIONS', 'AO JIANG APARTMENTS', 'AROOZOO CENTRE', 'ARTHUR COURT', 'ASIA GARDENS', 'ASTORIA APARTMENTS', 'AURA PARK', 'AUSTRAL VIEW', 'AUTUMN TEN MANSIONS', 'BALESTIER COMPLEX', 'BALESTIER COURT', 'BALESTIER TOWERS', 'BALMEG COURT', 'BALMORAL COURT', 'BALMORAL GROVE', 'BALMORAL VIEW', 'BENG TONG MANSION', 'BEVERLY HILL APARTMENTS', 'BEVERLY MAI', 'BO BO TAN GARDENS', 'BOON TECK HEIGHTS', 'BOON TECK TOWERS', 'BOUGAINVILLA COURT', 'BRADDELL REGALIA', 'BRIGHT BUILDING', 'BRIGHTVIEW APARTMENTS', 'BROOKVALE PARK', 'BUCKLEY MANSION', 'CAI GARDENS', 'CAI YUAN MANSIONS', 'CAIRNHILL GARDEN', 'CAIRNHILL MANSIONS', 'CALISAY', 'CALROSE GARDEN', 'CARLISLE LODGE', 'CARLTON TERRACE', 'CASA MEYFORT', 'CASA NASSAU', 'CASA SOPHIA', 'CASTLE COURT', 'CATHAY GARDENS', 'CENTURY VILLE', 'CHAMBERY MANSIONS', 'CHAR YONG GARDENS', 'CHARLES VILLE', 'CHARLTON GARDENS', 'CHATEAU ELIZA', 'CHENG HOE HOUSE', 'CHEZ BRIGHT APARTMENT', 'CHILTERN PARK CONDO', 'CHONG KIM APARTMENT', 'CHUAN COURT', 'CITIPORT CENTRE', 'CITY TOWERS', 'CLERMONT RESIDENCE', 'COMFORT MANSION', 'COSMO LOFT', 'CRYSTAL TOWER', 'CULFORD GARDEN', 'CUSCADEN MANSIONS', 'CUSCADEN ROYALE', \"D'BANYAN\", \"D'CAMBRIDGE\", \"D'CASITA\", \"D'CASTILIA\", \"D'DALVEY\", \"D'EVELYN\", \"D'FOCUS APARTMENTS\", \"D'FRESCO\", \"D'GALLERY\", \"D'HILLSIDE LOFT\", \"D'IXORAS\", \"D'MARINE\", \"D'PALMA\", \"D'SAVILLE\", 'DAIRY FARM ESTATE', 'DATOH COURT', 'DE ANGELO', 'DENG FU COURT', 'DERBY COURT', 'DEVONSHIRE LODGE', 'DORSET COURT', 'DRAGON MANSION', 'DRAGON PEARL APARTMENT', 'DUCHESS COURT', 'DUNEARN GARDENS', 'DUSUN GROVE', 'EAST SHORE COURT', 'EASTERN MANSION', 'EASTERN WAY MANSIONS', 'EDENVALE', 'EL CENTRO', 'ELEGANCE VIEW', 'ELMIRA HEIGHTS', 'EMERALD LODGE', 'EMERALD MANSIONS', 'EN FU MANSIONS', 'ENG LOK MANSION', 'ENG TAI MANSION', 'EU HOCK APARTMENTS', 'EUNOS GARDENS', 'EUNOS MANSION', 'EUNOSVILLE', 'EURO-ASIA APARTMENTS', 'EVIAN', 'FALCON CREST', 'FAR EAST MANSION', 'FIDVI COURT', 'FIRST MANSION', 'FLORENCE REGENCY', 'FLYNN PARK', 'FOH PIN MANSION', 'FORD MANSION', 'FORTREDALE', 'FORTUNA COURT', 'FURAMA TOWER', 'GARDENIA COURT', 'GEK LIM MANSIONS', 'GILSTEAD BROOKS', 'GILSTEAD VIEW', 'GOLDEN TOWERS', 'GOLDHILL MANSION', 'GOODLUCK GARDEN', 'GOODLUCK VIEW', 'GOODWILL MANSION', 'GRAND DUCHESS AT ST PATRICKS', 'GRAND TOWER', 'GRANGE TOWER', 'GRANGEFORD APARTMENT', 'GREEN MEADOWS', 'GUILLEMARD COURT', 'HABITAT ONE', 'HAIG MANSIONS', 'HAMPTON COURT', 'HANG TAT GARDEN', 'HARMONY MANSION', 'HEIWA COURT', 'HILLCOURT', 'HILLTOP APARTMENTS', 'HIMIKO COURT', 'HIN SENG GARDEN', 'HJ HEIGHTS', 'HOLLAND APARTMENT', 'HOLLAND CREST', 'HOLLAND HILL MANSION', 'HOLLANDIA', 'HORIZON VIEW', 'HOUGANG N7 (HUDC) PRIVATIZED', 'HULLET COURT', 'ILIV @ GRANGE', 'INSTITUTION VILLE', 'JADE TOWERS', 'JASMINE COURT', 'JERVOIS JADE APARTMENTS', 'JIN FU APARTMENT', 'JOY COURT', 'JOYFUL MANSIONS', 'KAI SHENG COURT', 'KATONG OMEGA APARTMENTS', 'KATONG SHOPPING ARCADE', 'KELLETT COURT', 'KEMAMAN POINT', 'KEMAMAN VIEW', 'KILLINEY APARTMENTS', 'KIM WEE MANSION', 'KING GEORGES AVENUE', 'LA SUISSE II', 'LA VENTURA', 'LANDMARK TOWER', 'LAUREL PARK', 'LE MARQUE', 'LE YUKE APARTMENTS', 'LEICESTER COURT', 'LENGKONG COURT', 'LEONG BEE COURT', 'LES JARDINS', 'LESHAN GARDENS', 'LIANG SEAH COURT', 'LIBERTE', 'LINCOLN LODGE', 'LINCOLNSVALE', 'LOCK CHO APARTMENTS', 'LONG NIAN COURT', 'LORNIE GARDENS', 'LOTUS AT JERVOIS', 'LUXURY APARTMENTS', 'MACKENZIE MANSIONS', 'MAISON ROYALE', 'MAKEWAY VIEW', 'MANDALAY VILLE', 'MANGIS PARK', 'MARINE PARADE GARDEN', 'MARINE POINT', 'MARYLAND POINT', 'MAYER MANSION', 'MAYVIEW TOWNHOUSES', 'MELLOW MANSION', 'MELROSE COURT', 'MERGUI COURT', 'MERGUI LODGE', 'MERLIN MANSION', 'MILLAGE', 'MIMOSA COURT', 'MIN YUAN', 'MIN YUAN APARTMENT', 'MINTON COURT', 'MINTON RISE CONDOMINIUM', 'MOON MANSION', 'MOULMEIN GREEN', 'MOUNT EMILY TOWER', 'MULTI-VIEW TOWERS', 'NASSIM WOODS', 'NATHAN COURT', 'NAT, 'ST. PATRICKS GARDEN', 'ST. PATRICKS GREEN', 'ST. PATRICKS VIEW', 'ST. PATRICKS VILLA', 'STILLINGIA', 'SUFFOLK APARTMENT', 'SUMMER APARTMENTS', 'SUN CREST', 'SUN ROSIER', 'SURREY POINT', 'TAI GIN APARTMENTS', 'TAI KENG COURT', 'TARNG CHERN BUILDING', 'TAT LEE COURT', 'THE ALBRACCA', 'THE ARDMORE', 'THE ASPINE', 'THE BLISSVILLE', 'THE CHERRYWOOD', 'THE ESTORIL', 'THE HABITAT II', 'THE HILLIER', 'THE SAPPHIRE', 'THE VILLAGE TOWER', 'THE WILBY RESIDENCE', 'THE WILSHIRE', 'THONG SIA BUILDING', 'TIAN COURT', 'TOHO GREEN', 'TOHO MANSION', 'TONG WATT MANSION', 'TORIEVILLE', 'TULIP GARDEN', 'ULTRA MANSION', 'VENUS MANSION', 'VERMONT I', 'VIEW POINT MANSION', 'VIEWPOINT CONDO', 'VILLA INDAH', 'VILLA MARGAUX', 'WALDORF MANSIONS', 'WATERFRONT VIEW', 'WATERLOO APARTMENTS', 'WELKIN MANSION', 'WEN YUAN COURT', 'WESTERN GROVE', 'WESTVALE', 'WESTWOOD APARTMENTS', 'WHITLEY HEIGHTS', 'WINFIELD MANSION', 'WOODLEIGH GROVE', 'WOODSVILLE COURT', 'YI KAI COURT', 'YI MEI GARDENS']"
   ]
  },
  {
   "cell_type": "code",
   "execution_count": null,
   "metadata": {},
   "outputs": [],
   "source": [
    "print(len(ls))"
   ]
  },
  {
   "cell_type": "code",
   "execution_count": null,
   "metadata": {},
   "outputs": [],
   "source": []
  }
 ],
 "metadata": {
  "kernelspec": {
   "display_name": "Python 3",
   "language": "python",
   "name": "python3"
  },
  "language_info": {
   "codemirror_mode": {
    "name": "ipython",
    "version": 3
   },
   "file_extension": ".py",
   "mimetype": "text/x-python",
   "name": "python",
   "nbconvert_exporter": "python",
   "pygments_lexer": "ipython3",
   "version": "3.10.11"
  },
  "orig_nbformat": 4
 },
 "nbformat": 4,
 "nbformat_minor": 2
}
